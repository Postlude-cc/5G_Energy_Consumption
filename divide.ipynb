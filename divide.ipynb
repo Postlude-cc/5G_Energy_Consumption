{
 "cells": [
  {
   "cell_type": "code",
   "execution_count": 6,
   "metadata": {},
   "outputs": [
    {
     "name": "stdout",
     "output_type": "stream",
     "text": [
      "训练集保存位置为 EnergyContest/ECdata.csv\n",
      "测试集保存位置为 EnergyContest/power_consumption_prediction.csv\n"
     ]
    }
   ],
   "source": [
    "#将ECdata.csv提取部分数据作为测试集\n",
    "\n",
    "import pandas as pd\n",
    "import numpy as np\n",
    "\n",
    "file_path = 'EnergyContest/ECdata_raw.csv'\n",
    "data = pd.read_csv(file_path)\n",
    "\n",
    "# 分割训练集与测试集为90%,10%,随机种子设定为2024\n",
    "train_data = data.sample(frac=0.9, random_state=2024)\n",
    "test_data = data.drop(train_data.index)\n",
    "\n",
    "train_data = train_data.sort_index()\n",
    "test_data = test_data.sort_index()\n",
    "test_data['Energy'] = None\n",
    "\n",
    "# Save the split data to new CSV files\n",
    "train_file_path = 'EnergyContest/ECdata.csv'\n",
    "test_file_path = 'EnergyContest/power_consumption_prediction.csv'\n",
    "\n",
    "train_data.to_csv(train_file_path, index=False)\n",
    "test_data.to_csv(test_file_path, index=False)\n",
    "\n",
    "print(f\"训练集保存位置为 {train_file_path}\")\n",
    "print(f\"测试集保存位置为 {test_file_path}\")\n"
   ]
  }
 ],
 "metadata": {
  "kernelspec": {
   "display_name": "torch",
   "language": "python",
   "name": "python3"
  },
  "language_info": {
   "codemirror_mode": {
    "name": "ipython",
    "version": 3
   },
   "file_extension": ".py",
   "mimetype": "text/x-python",
   "name": "python",
   "nbconvert_exporter": "python",
   "pygments_lexer": "ipython3",
   "version": "3.8.19"
  }
 },
 "nbformat": 4,
 "nbformat_minor": 2
}
